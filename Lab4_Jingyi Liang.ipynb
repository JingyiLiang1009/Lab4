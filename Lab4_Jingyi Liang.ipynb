{
 "cells": [
  {
   "cell_type": "code",
   "execution_count": 1,
   "metadata": {},
   "outputs": [],
   "source": [
    "import pandas as pd\n",
    "import numpy as np\n",
    "import matplotlib.pyplot as plt\n",
    "from matplotlib.pyplot import figure\n",
    "from sklearn.cluster import KMeans\n",
    "from sklearn.cluster import Birch\n",
    "from sklearn.manifold import TSNE\n",
    "from sklearn.preprocessing import scale\n",
    "from sklearn.preprocessing import StandardScaler\n",
    "from sklearn.decomposition import PCA\n",
    "from collections import Counter\n",
    "from sklearn.linear_model import LinearRegression"
   ]
  },
  {
   "cell_type": "code",
   "execution_count": 13,
   "metadata": {},
   "outputs": [
    {
     "name": "stdout",
     "output_type": "stream",
     "text": [
      "<class 'pandas.core.frame.DataFrame'>\n",
      "RangeIndex: 64 entries, 0 to 63\n",
      "Columns: 6831 entries, Unnamed: 0 to 6830\n",
      "dtypes: float64(6830), object(1)\n",
      "memory usage: 3.3+ MB\n"
     ]
    },
    {
     "data": {
      "text/plain": [
       "Unnamed: 0    0\n",
       "1             0\n",
       "2             0\n",
       "3             0\n",
       "4             0\n",
       "5             0\n",
       "6             0\n",
       "7             0\n",
       "8             0\n",
       "9             0\n",
       "10            0\n",
       "11            0\n",
       "12            0\n",
       "13            0\n",
       "14            0\n",
       "15            0\n",
       "16            0\n",
       "17            0\n",
       "18            0\n",
       "19            0\n",
       "20            0\n",
       "21            0\n",
       "22            0\n",
       "23            0\n",
       "24            0\n",
       "25            0\n",
       "26            0\n",
       "27            0\n",
       "28            0\n",
       "29            0\n",
       "             ..\n",
       "6801          0\n",
       "6802          0\n",
       "6803          0\n",
       "6804          0\n",
       "6805          0\n",
       "6806          0\n",
       "6807          0\n",
       "6808          0\n",
       "6809          0\n",
       "6810          0\n",
       "6811          0\n",
       "6812          0\n",
       "6813          0\n",
       "6814          0\n",
       "6815          0\n",
       "6816          0\n",
       "6817          0\n",
       "6818          0\n",
       "6819          0\n",
       "6820          0\n",
       "6821          0\n",
       "6822          0\n",
       "6823          0\n",
       "6824          0\n",
       "6825          0\n",
       "6826          0\n",
       "6827          0\n",
       "6828          0\n",
       "6829          0\n",
       "6830          0\n",
       "Length: 6831, dtype: int64"
      ]
     },
     "execution_count": 13,
     "metadata": {},
     "output_type": "execute_result"
    }
   ],
   "source": [
    "NCI_60data = pd.read_csv('D:/sas/NCI60_data.csv')\n",
    "NCI_60labs = pd.read_csv('D:/sas/NCI60_labs.csv')\n",
    "NCI_60data.info()\n",
    "NCI_60data.isnull().sum()"
   ]
  },
  {
   "cell_type": "markdown",
   "metadata": {},
   "source": [
    "We will first do a PCA analysis. Scale, perform PCA, and plot the variance explained and the cumulative variance explained by the PCs. How many PCs are produced in the analysis? Approximately how many PCs are required to explain 90% of the variance in the data?"
   ]
  },
  {
   "cell_type": "code",
   "execution_count": 16,
   "metadata": {},
   "outputs": [],
   "source": [
    "dfnew = NCI_60data.drop(NCI_60data.columns[0], axis=1)\n",
    "X = dfnew\n",
    "# standardize the data \n",
    "std = StandardScaler()\n",
    "X_scale=std.fit_transform(X)"
   ]
  },
  {
   "cell_type": "code",
   "execution_count": 34,
   "metadata": {},
   "outputs": [
    {
     "name": "stdout",
     "output_type": "stream",
     "text": [
      "[1.13589419e-01 6.75620253e-02 5.75184223e-02 4.24755448e-02\n",
      " 3.73497235e-02 3.61863019e-02 3.06622240e-02 2.68590309e-02\n",
      " 2.52949807e-02 2.37586884e-02 2.35655815e-02 2.16412198e-02\n",
      " 2.04909747e-02 1.97881793e-02 1.91541737e-02 1.77176082e-02\n",
      " 1.66272971e-02 1.61075898e-02 1.59433320e-02 1.55991861e-02\n",
      " 1.50721674e-02 1.48009892e-02 1.43576234e-02 1.36277104e-02\n",
      " 1.32350200e-02 1.27519917e-02 1.25903703e-02 1.20979413e-02\n",
      " 1.18098781e-02 1.12098170e-02 1.08277440e-02 1.04477523e-02\n",
      " 1.02647051e-02 9.88274535e-03 9.74257138e-03 9.31114503e-03\n",
      " 9.14795316e-03 8.95640894e-03 8.72950586e-03 8.42575751e-03\n",
      " 8.13979814e-03 7.89749805e-03 7.39000998e-03 7.20101586e-03\n",
      " 7.08918353e-03 6.90272334e-03 6.78495251e-03 6.47012955e-03\n",
      " 6.40883777e-03 6.01193511e-03 5.66418607e-03 5.63402788e-03\n",
      " 5.38935217e-03 5.12786334e-03 5.11796180e-03 4.81620125e-03\n",
      " 4.38498746e-03 4.10056057e-03 3.69138981e-03 3.21224918e-03\n",
      " 2.55289125e-03 2.43978225e-03 2.39116326e-03 2.24015629e-32]\n"
     ]
    },
    {
     "data": {
      "text/plain": [
       "array([[-1.98380417e+01, -3.55563601e+00, -9.81239940e+00, ...,\n",
       "         3.92266143e-01, -8.94903994e-01,  1.23694250e-14],\n",
       "       [-2.30892149e+01, -6.44145978e+00, -1.34782512e+01, ...,\n",
       "        -7.76330257e-01,  9.69009169e-01,  1.23694250e-14],\n",
       "       [-2.74561144e+01, -2.46514326e+00, -3.53305434e+00, ...,\n",
       "         4.98404578e-01, -8.44417986e-01,  1.23694250e-14],\n",
       "       ...,\n",
       "       [-2.29669875e+01,  3.61020384e+01,  1.81165786e+01, ...,\n",
       "        -3.37372043e-01, -2.68801414e-01,  1.23694250e-14],\n",
       "       [-1.91760072e+01,  5.03984409e+01,  4.21115253e+00, ...,\n",
       "        -1.51507990e+00,  1.01150699e+00,  1.23694250e-14],\n",
       "       [-1.32328698e+01,  3.51252492e+01,  3.43355443e+00, ...,\n",
       "         5.92331292e-01, -6.70834261e-01,  1.23694250e-14]])"
      ]
     },
     "execution_count": 34,
     "metadata": {},
     "output_type": "execute_result"
    }
   ],
   "source": [
    "pca=PCA()\n",
    "pca.fit(X_scale) \n",
    "X_pca = pca.fit_transform(X_scale)\n",
    "print(pca.explained_variance_ratio_)  \n",
    "X_pca"
   ]
  },
  {
   "cell_type": "code",
   "execution_count": 35,
   "metadata": {},
   "outputs": [
    {
     "data": {
      "text/plain": [
       "64"
      ]
     },
     "execution_count": 35,
     "metadata": {},
     "output_type": "execute_result"
    }
   ],
   "source": [
    "len(pca.explained_variance_ratio_)"
   ]
  },
  {
   "cell_type": "code",
   "execution_count": 36,
   "metadata": {},
   "outputs": [
    {
     "data": {
      "text/plain": [
       "Text(0,0.5,'Cummulative Explained Variance')"
      ]
     },
     "execution_count": 36,
     "metadata": {},
     "output_type": "execute_result"
    },
    {
     "data": {
      "image/png": "[encoded data removed]",
      "text/plain": [
       "<Figure size 432x288 with 1 Axes>"
      ]
     },
     "metadata": {
      "needs_background": "light"
     },
     "output_type": "display_data"
    }
   ],
   "source": [
    "components = np.arange(1,65)\n",
    "plt.plot(components,np.cumsum(pca.explained_variance_ratio_))\n",
    "plt.xlabel('Number of Components')\n",
    "plt.ylabel('Cummulative Explained Variance')"
   ]
  },
  {
   "cell_type": "code",
   "execution_count": 43,
   "metadata": {},
   "outputs": [
    {
     "name": "stdout",
     "output_type": "stream",
     "text": [
      "44\n",
      "[0.11358942 0.06756203 0.05751842 0.04247554 0.03734972 0.0361863\n",
      " 0.03066222 0.02685903 0.02529498 0.02375869 0.02356558 0.02164122\n",
      " 0.02049097 0.01978818 0.01915417 0.01771761 0.0166273  0.01610759\n",
      " 0.01594333 0.01559919 0.01507217 0.01480099 0.01435762 0.01362771\n",
      " 0.01323502 0.01275199 0.01259037 0.01209794 0.01180988 0.01120982\n",
      " 0.01082774 0.01044775 0.01026471 0.00988275 0.00974257 0.00931115\n",
      " 0.00914795 0.00895641 0.00872951 0.00842576 0.0081398  0.0078975\n",
      " 0.00739001 0.00720102]\n",
      "[788.13026426 468.77321436 399.08655196 294.71285936 259.1477961\n",
      " 251.07549678 212.74716418 186.35904085 175.50701512 164.84758546\n",
      " 163.50773002 150.15571398 142.17483918 137.2985543  132.89956203\n",
      " 122.9320777  115.36704961 111.76110551 110.62141689 108.23359084\n",
      " 104.57691772 102.69537114  99.61911661  94.55467901  91.83003052\n",
      "  88.47858102  87.35718525  83.94050942  81.94180801  77.77833649\n",
      "  75.12735629  72.49081739  71.22076025  68.57056586  67.59798101\n",
      "  64.60456693  63.47227435  62.14326154  60.56891428  58.46138287\n",
      "  56.47727876  54.79610074  51.2749391   49.96361989]\n",
      "44\n"
     ]
    }
   ],
   "source": [
    "print(len(pca.explained_variance_ratio_>= 0.9))\n",
    "pca = PCA(n_components=0.9)\n",
    "pca.fit(X_scale)\n",
    "print(pca.explained_variance_ratio_)\n",
    "print (pca.explained_variance_)\n",
    "print (pca.n_components_)"
   ]
  },
  {
   "cell_type": "markdown",
   "metadata": {},
   "source": [
    "Plot the scores on the first versus second PC and the scores on the first versus third PC. Color the scores by cancer type. Interpret your results."
   ]
  },
  {
   "cell_type": "code",
   "execution_count": 55,
   "metadata": {},
   "outputs": [
    {
     "data": {
      "text/plain": [
       "Text(0,0.5,'PC 2')"
      ]
     },
     "execution_count": 55,
     "metadata": {},
     "output_type": "execute_result"
    },
    {
     "data": {
      "image/png": "[encoded data removed]",
      "text/plain": [
       "<Figure size 432x288 with 1 Axes>"
      ]
     },
     "metadata": {
      "needs_background": "light"
     },
     "output_type": "display_data"
    }
   ],
   "source": [
    "from sklearn.preprocessing import LabelEncoder\n",
    "LE = LabelEncoder()\n",
    "pca_scores = pca.fit_transform(X_scale)\n",
    "pd.DataFrame(pca_scores)\n",
    "plt.scatter(pca_scores[:,0],pca_scores[:,1],c = LE.fit_transform(NCI_60labs['x']))\n",
    "plt.xlabel('PC 1')\n",
    "plt.ylabel('PC 2')"
   ]
  },
  {
   "cell_type": "code",
   "execution_count": 56,
   "metadata": {},
   "outputs": [
    {
     "data": {
      "text/plain": [
       "Text(0,0.5,'PC 3')"
      ]
     },
     "execution_count": 56,
     "metadata": {},
     "output_type": "execute_result"
    },
    {
     "data": {
      "image/png": "[encoded data removed]",
      "text/plain": [
       "<Figure size 432x288 with 1 Axes>"
      ]
     },
     "metadata": {
      "needs_background": "light"
     },
     "output_type": "display_data"
    }
   ],
   "source": [
    "plt.scatter(pca_scores[:,0],pca_scores[:,2],c = LE.fit_transform(NCI_60labs['x']))\n",
    "plt.xlabel('PC 1')\n",
    "plt.ylabel('PC 3')"
   ]
  },
  {
   "cell_type": "markdown",
   "metadata": {},
   "source": [
    "Next we will perform clustering on the data. Visualize the dendogram for hierarchical clustering with complete, average, and single linkage. Label the dendogram with the cancer types. Does the choice of linkage impact the results?"
   ]
  },
  {
   "cell_type": "code",
   "execution_count": 58,
   "metadata": {},
   "outputs": [
    {
     "data": {
      "image/png": "[encoded data removed]",
      "text/plain": [
       "<Figure size 432x288 with 1 Axes>"
      ]
     },
     "metadata": {
      "needs_background": "light"
     },
     "output_type": "display_data"
    }
   ],
   "source": [
    "import scipy.cluster.hierarchy as shc\n",
    "dend = shc.dendrogram(shc.linkage(X_scale, method ='complete'))"
   ]
  },
  {
   "cell_type": "code",
   "execution_count": 59,
   "metadata": {},
   "outputs": [
    {
     "data": {
      "image/png": "[encoded data removed]",
      "text/plain": [
       "<Figure size 432x288 with 1 Axes>"
      ]
     },
     "metadata": {
      "needs_background": "light"
     },
     "output_type": "display_data"
    }
   ],
   "source": [
    "dend = shc.dendrogram(shc.linkage(X_scale, method ='average'))"
   ]
  },
  {
   "cell_type": "code",
   "execution_count": 60,
   "metadata": {},
   "outputs": [
    {
     "data": {
      "image/png": "[encoded data removed]",
      "text/plain": [
       "<Figure size 432x288 with 1 Axes>"
      ]
     },
     "metadata": {
      "needs_background": "light"
     },
     "output_type": "display_data"
    }
   ],
   "source": [
    "dend = shc.dendrogram(shc.linkage(X_scale, method ='single'))"
   ]
  },
  {
   "cell_type": "markdown",
   "metadata": {},
   "source": [
    "Use complete linkage for the remainder of the analysis.  Cluster the observations into 4 groups.  Look at the labels for each of the groups and comment on the success of the clustering.  "
   ]
  },
  {
   "cell_type": "code",
   "execution_count": 61,
   "metadata": {},
   "outputs": [
    {
     "data": {
      "text/plain": [
       "KMeans(algorithm='auto', copy_x=True, init='k-means++', max_iter=500,\n",
       "    n_clusters=4, n_init=10, n_jobs=4, precompute_distances='auto',\n",
       "    random_state=None, tol=0.0001, verbose=0)"
      ]
     },
     "execution_count": 61,
     "metadata": {},
     "output_type": "execute_result"
    }
   ],
   "source": [
    "kmeans = KMeans(n_clusters = 4,n_jobs = 4, max_iter = 500)\n",
    "kmeans.fit(X_scale)"
   ]
  },
  {
   "cell_type": "code",
   "execution_count": 62,
   "metadata": {},
   "outputs": [
    {
     "data": {
      "text/plain": [
       "array([0, 0, 0, 0, 0, 0, 0, 0, 0, 0, 0, 0, 0, 0, 0, 0, 0, 0, 0, 0, 0, 0,\n",
       "       0, 2, 2, 0, 2, 0, 2, 0, 0, 2, 2, 2, 2, 2, 2, 2, 2, 2, 2, 2, 2, 2,\n",
       "       2, 2, 2, 2, 1, 1, 1, 1, 2, 2, 2, 3, 3, 3, 3, 3, 3, 3, 3, 3])"
      ]
     },
     "execution_count": 62,
     "metadata": {},
     "output_type": "execute_result"
    }
   ],
   "source": [
    "y_kmeans = kmeans.predict(X_scale)\n",
    "y_kmeans"
   ]
  },
  {
   "cell_type": "code",
   "execution_count": 63,
   "metadata": {},
   "outputs": [
    {
     "name": "stdout",
     "output_type": "stream",
     "text": [
      "Original label            BREAST  CNS  COLON  K562A-repro  K562B-repro  \\\n",
      "KMeans_clustering labels                                                 \n",
      "0                              3    5      0            0            0   \n",
      "1                              2    0      0            0            0   \n",
      "2                              0    0      7            1            1   \n",
      "3                              2    0      0            0            0   \n",
      "\n",
      "Original label            LEUKEMIA  MCF7A-repro  MCF7D-repro  MELANOMA  NSCLC  \\\n",
      "KMeans_clustering labels                                                        \n",
      "0                                0            0            0         1      4   \n",
      "1                                0            1            1         0      0   \n",
      "2                                6            0            0         0      5   \n",
      "3                                0            0            0         7      0   \n",
      "\n",
      "Original label            OVARIAN  PROSTATE  RENAL  UNKNOWN  \n",
      "KMeans_clustering labels                                     \n",
      "0                               3         1      9        1  \n",
      "1                               0         0      0        0  \n",
      "2                               3         1      0        0  \n",
      "3                               0         0      0        0  \n"
     ]
    }
   ],
   "source": [
    "df = pd.DataFrame({'KMeans_clustering labels':y_kmeans,'Original label':NCI_60labs['x']})\n",
    "clusterresult = pd.crosstab(df['KMeans_clustering labels'],df['Original label'])\n",
    "print(clusterresult)"
   ]
  },
  {
   "cell_type": "markdown",
   "metadata": {},
   "source": [
    "Rather than performing hierarchical clustering on the entire data matrix, we can simply perform hierarchical clustering on the first few principal component score vectors. Sometimes performing clustering on the first few principal component score vectors can give better results than performing clustering on the full data. Perform hierarchical clustering on the first 5 principal component scores and comment on the results.  "
   ]
  },
  {
   "cell_type": "markdown",
   "metadata": {},
   "source": [
    "github link: https://github.com/RachSean/Lab4"
   ]
  },
  {
   "cell_type": "code",
   "execution_count": null,
   "metadata": {},
   "outputs": [],
   "source": []
  }
 ],
 "metadata": {
  "kernelspec": {
   "display_name": "Python 3",
   "language": "python",
   "name": "python3"
  },
  "language_info": {
   "codemirror_mode": {
    "name": "ipython",
    "version": 3
   },
   "file_extension": ".py",
   "mimetype": "text/x-python",
   "name": "python",
   "nbconvert_exporter": "python",
   "pygments_lexer": "ipython3",
   "version": "3.7.0"
  }
 },
 "nbformat": 4,
 "nbformat_minor": 2
}
